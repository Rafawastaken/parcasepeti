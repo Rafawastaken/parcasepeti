{
 "cells": [
  {
   "cell_type": "code",
   "id": "initial_id",
   "metadata": {
    "collapsed": true,
    "ExecuteTime": {
     "end_time": "2025-06-13T22:10:21.572504Z",
     "start_time": "2025-06-13T22:10:21.569317Z"
    }
   },
   "source": [
    "from bs4 import BeautifulSoup as sp, XMLParsedAsHTMLWarning\n",
    "import requests\n",
    "import json\n",
    "import warnings\n",
    "\n",
    "warnings.filterwarnings(\"ignore\", category=XMLParsedAsHTMLWarning)\n"
   ],
   "outputs": [],
   "execution_count": 111
  },
  {
   "metadata": {
    "ExecuteTime": {
     "end_time": "2025-06-13T22:10:30.742774Z",
     "start_time": "2025-06-13T22:10:22.875636Z"
    }
   },
   "cell_type": "code",
   "source": [
    "sitemaps = [\n",
    "    \"https://www.parcasepeti.com.tr/product-sitemap1.xml\",\n",
    "    \"https://www.parcasepeti.com.tr/product-sitemap2.xml\",\n",
    "    \"https://www.parcasepeti.com.tr/product-sitemap3.xml\",\n",
    "    \"https://www.parcasepeti.com.tr/product-sitemap4.xml\",\n",
    "    \"https://www.parcasepeti.com.tr/product-sitemap5.xml\",\n",
    "]\n",
    "\n",
    "final_links = []\n",
    "\n",
    "for sitemap in sitemaps:\n",
    "    response = requests.get(sitemap)\n",
    "    soup = sp(response.text, \"lxml\")  # using XML parser\n",
    "\n",
    "    loc_tags = soup.find_all(\"loc\")\n",
    "    for tag in loc_tags:\n",
    "        final_links.append(tag.text.strip())"
   ],
   "id": "89ff0666b3f50812",
   "outputs": [],
   "execution_count": 112
  },
  {
   "metadata": {
    "ExecuteTime": {
     "end_time": "2025-06-13T22:10:42.857176Z",
     "start_time": "2025-06-13T22:10:42.849168Z"
    }
   },
   "cell_type": "code",
   "source": [
    "def get_data(link: str) -> dict:\n",
    "    r = requests.get(link)\n",
    "    soup = sp(r.text, \"lxml\")\n",
    "\n",
    "    container = soup.find(\"div\", class_=\"summary\")\n",
    "    product_id = container.find(class_ = 'wd-product-info').get(\"data-product-id\")\n",
    "    product_title = container.find(class_ = 'product_title').text\n",
    "\n",
    "    product_info_raw = str(container.find(class_='woocommerce-product-details__short-description').find(\"p\")).split(\" : \")\n",
    "    product_code = product_info_raw[1].strip().replace(\"</p>\", \"\").split(\"  \")[0]\n",
    "    product_partnumber = product_info_raw[-1].strip().replace(\"</p>\", \"\")\n",
    "    product_price = container.find(class_ = 'woocommerce-Price-amount amount').text\n",
    "    product_stock = container.find(\"p\", class_ = \"stock\").text.strip().lower()\n",
    "    if product_stock == \"stokta\":\n",
    "        product_stock = True\n",
    "    else :\n",
    "        product_stock = False\n",
    "\n",
    "    product_images = []\n",
    "    product_images_container = soup.find(class_ = \"woocommerce-product-gallery__wrapper\").find_all(\"figure\")\n",
    "    for product_image in product_images_container:\n",
    "        image_src = product_image.get(\"data-thumb\")\n",
    "        product_images.append(image_src)\n",
    "\n",
    "    product_description_html = str(soup.find(\"div\", {\"data-accordion-index\": \"description\"})).replace(\"  \", \"\")\n",
    "\n",
    "    product_attributes = []\n",
    "    product_attributes_container = soup.find(\"table\", {\"class\": \"woocommerce-product-attributes\"}).find_all(\"tr\")\n",
    "    for attribute in product_attributes_container:\n",
    "        attribute_title = attribute.find(\"th\").text.replace(\"\\n\", \"\").strip()\n",
    "        attribute_value = attribute.find(\"td\").text.replace(\"\\n\", \"\").strip()\n",
    "        product_attributes.append({\n",
    "            \"attribute_title\": attribute_title,\n",
    "            \"attribute_value\": attribute_value,\n",
    "        })\n",
    "\n",
    "    product_info = {\n",
    "        \"product_id\": product_id,\n",
    "        \"product_title\": product_title,\n",
    "        \"product_code\": product_code,\n",
    "        \"product_partnumber\": product_partnumber,\n",
    "        \"product_price\": product_price,\n",
    "        \"product_stock\": product_stock,\n",
    "        \"product_description_html\": product_description_html,\n",
    "        \"product_attributes\": product_attributes,\n",
    "        \"product_images\": product_images,\n",
    "    }\n",
    "\n",
    "    return product_info\n"
   ],
   "id": "5d96697fed84b500",
   "outputs": [],
   "execution_count": 115
  },
  {
   "metadata": {
    "ExecuteTime": {
     "end_time": "2025-06-13T22:10:56.444228Z",
     "start_time": "2025-06-13T22:10:44.178006Z"
    }
   },
   "cell_type": "code",
   "source": [
    "for enum, link in enumerate(final_links):\n",
    "    print(f\"[{enum}/{len(final_links)}] {link}]\")\n",
    "    try:\n",
    "        product_info = get_data(link)\n",
    "        with open(\"completed.txt\", \"a\") as file:\n",
    "            file.write(link + \"\\n\")\n",
    "        print(f\"\\t{product_info.get(\"product_title\")} - encontrado\")\n",
    "    except Exception as e:\n",
    "        with open(\"error.txt\", \"a\") as file:\n",
    "            file.write(link + \"\\n\")\n",
    "        print(f\"\\tErro: {link}\")\n",
    "        continue\n",
    "\n",
    "    with open(\"final.json\", \"a\") as file:\n",
    "        file.write(json.dumps(product_info))"
   ],
   "id": "7d42463d3fe52fb3",
   "outputs": [
    {
     "name": "stdout",
     "output_type": "stream",
     "text": [
      "[0/21506] https://www.parcasepeti.com.tr/magaza/]\n",
      "\tErro: https://www.parcasepeti.com.tr/magaza/\n",
      "[1/21506] https://www.parcasepeti.com.tr/urun/turbo-hortumu-c3-1-4-hdi-16v-dv4ted4-144036/]\n",
      "\t\n",
      "Turbo Hortumu C3 1.4 Hdi 16V Dv4Ted4 144036 - encontrado\n",
      "[2/21506] https://www.parcasepeti.com.tr/urun/vakum-pompasi-301-c-elysee-4556-24-av6q2a454aa/]\n",
      "\t\n",
      "Vakum Pompası 301 / C-Elysee 4556.24 AV6Q2A454AA - encontrado\n",
      "[3/21506] https://www.parcasepeti.com.tr/urun/turbo-hortumu-208-c3-2008-3008-9835265880-9835737580/]\n",
      "\t\n",
      "Turbo Hortumu 208-C3-2008-3008 9835265880 9835737580 - encontrado\n",
      "[4/21506] https://www.parcasepeti.com.tr/urun/turbo-borusu-partner-berlingo-1-6-hdi-1434-g3-9684362180/]\n",
      "\t\n",
      "Turbo Borusu Partner Berlingo 1.6 Hdi 1434.G3 9684362180 - encontrado\n",
      "[5/21506] https://www.parcasepeti.com.tr/urun/turbo-borusu-contasi-301-c-elysee-partner-tepee-berlingo-3-9804177480/]\n",
      "\t\n",
      "Turbo Borusu Contası 301 C-Elysee Partner Tepee Berlingo 3 9804177480 - encontrado\n",
      "[6/21506] https://www.parcasepeti.com.tr/urun/yedek-su-depo-borusu-partner-tepee-berlingo-3-1323at/]\n"
     ]
    },
    {
     "name": "stderr",
     "output_type": "stream",
     "text": [
      "\n",
      "KeyboardInterrupt\n",
      "\n"
     ]
    }
   ],
   "execution_count": 116
  },
  {
   "metadata": {},
   "cell_type": "code",
   "outputs": [],
   "execution_count": null,
   "source": "",
   "id": "d5219e712d7ebb54"
  }
 ],
 "metadata": {
  "kernelspec": {
   "display_name": "Python 3",
   "language": "python",
   "name": "python3"
  },
  "language_info": {
   "codemirror_mode": {
    "name": "ipython",
    "version": 2
   },
   "file_extension": ".py",
   "mimetype": "text/x-python",
   "name": "python",
   "nbconvert_exporter": "python",
   "pygments_lexer": "ipython2",
   "version": "2.7.6"
  }
 },
 "nbformat": 4,
 "nbformat_minor": 5
}
